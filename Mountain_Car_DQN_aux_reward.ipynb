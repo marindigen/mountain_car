{
  "cells": [
    {
      "cell_type": "code",
      "execution_count": 1,
      "id": "e0d188ab",
      "metadata": {
        "colab": {
          "base_uri": "https://localhost:8080/"
        },
        "id": "e0d188ab",
        "outputId": "e9296c05-1e95-494b-b0bc-3f3bf0cef756"
      },
      "outputs": [
        {
          "output_type": "stream",
          "name": "stderr",
          "text": [
            "/usr/local/lib/python3.10/dist-packages/gym/core.py:317: DeprecationWarning: \u001b[33mWARN: Initializing wrapper in old step API which returns one bool instead of two. It is recommended to set `new_step_api=True` to use new step API. This will be the default behaviour in future.\u001b[0m\n",
            "  deprecation(\n",
            "/usr/local/lib/python3.10/dist-packages/gym/wrappers/step_api_compatibility.py:39: DeprecationWarning: \u001b[33mWARN: Initializing environment in old step API which returns one bool instead of two. It is recommended to set `new_step_api=True` to use new step API. This will be the default behaviour in future.\u001b[0m\n",
            "  deprecation(\n"
          ]
        }
      ],
      "source": [
        "import numpy as np\n",
        "import gym\n",
        "import math\n",
        "import random\n",
        "import matplotlib\n",
        "import matplotlib.pyplot as plt\n",
        "from collections import namedtuple, deque\n",
        "from itertools import count\n",
        "\n",
        "import torch\n",
        "import torch.nn as nn\n",
        "import torch.optim as optim\n",
        "import torch.nn.functional as F\n",
        "from torchvision import models\n",
        "from torchsummary import summary\n",
        "\n",
        "env = gym.make('MountainCar-v0')\n",
        "\n",
        "# set up matplotlib\n",
        "is_ipython = 'inline' in matplotlib.get_backend() # checks if one is running IPhyton environment like jupyter notebook\n",
        "if is_ipython:\n",
        "    from IPython import display\n",
        "\n",
        "plt.ion() # interactive mode on, allows automatic plots when data is updated (whithout calling plt.show every time)\n",
        "\n",
        "# if GPU is to be used\n",
        "device = torch.device(\"cuda\" if torch.cuda.is_available() else \"cpu\")"
      ]
    },
    {
      "cell_type": "code",
      "execution_count": 2,
      "id": "iRIzT0gzz3L8",
      "metadata": {
        "colab": {
          "base_uri": "https://localhost:8080/"
        },
        "id": "iRIzT0gzz3L8",
        "outputId": "baf4a1f2-2363-42a9-b0a3-5e7c4628c609"
      },
      "outputs": [
        {
          "output_type": "stream",
          "name": "stderr",
          "text": [
            "/usr/local/lib/python3.10/dist-packages/ipykernel/ipkernel.py:283: DeprecationWarning: `should_run_async` will not call `transform_cell` automatically in the future. Please pass the result to `transformed_cell` argument and any exception that happen during thetransform in `preprocessing_exc_tuple` in IPython 7.17 and above.\n",
            "  and should_run_async(code)\n"
          ]
        },
        {
          "output_type": "execute_result",
          "data": {
            "text/plain": [
              "device(type='cpu')"
            ]
          },
          "metadata": {},
          "execution_count": 2
        }
      ],
      "source": [
        "device"
      ]
    },
    {
      "cell_type": "code",
      "execution_count": 3,
      "id": "c93e80a7",
      "metadata": {
        "id": "c93e80a7"
      },
      "outputs": [],
      "source": [
        "Transition = namedtuple('Transition',\n",
        "                        ('state', 'action', 'next_state', 'reward'))\n",
        "\n",
        "# Is it necessary to implement an \"observe(self, state, action, next_state, reward)\" function, called upon observing a new transition of the environment?\n",
        "\n",
        "class ReplayBuffer(object):\n",
        "\n",
        "    def __init__(self, capacity):\n",
        "        self.buffer = deque([], maxlen=capacity)\n",
        "    # Compute a mask of non-final states and concatenate the batch elements\n",
        "\n",
        "    def push(self, *args):\n",
        "        \"\"\"Save a transition\"\"\"\n",
        "        self.buffer.append(Transition(*args))   # need *args because Transition expects values when instantiated\n",
        "\n",
        "    def sample(self, batch_size):\n",
        "        return random.sample(self.buffer, batch_size)\n",
        "\n",
        "    def __len__(self):\n",
        "        return len(self.buffer)"
      ]
    },
    {
      "cell_type": "code",
      "execution_count": 4,
      "id": "95d7977e",
      "metadata": {
        "id": "95d7977e"
      },
      "outputs": [],
      "source": [
        "class DQN(nn.Module):\n",
        "\n",
        "    def __init__(self, n_observations, n_actions, n_nodes_per_layer=64, n_layers=2):\n",
        "        super(DQN, self).__init__()\n",
        "        self.layers = nn.ModuleList([nn.Linear(n_observations, n_nodes_per_layer)])\n",
        "        for _ in range(n_layers - 1):\n",
        "            self.layers.append(nn.Linear(n_nodes_per_layer, n_nodes_per_layer))\n",
        "        self.output_layer = nn.Linear(n_nodes_per_layer, n_actions)\n",
        "\n",
        "    def forward(self, x):\n",
        "        for layer in self.layers:\n",
        "            x = F.relu(layer(x))\n",
        "        return self.output_layer(x)"
      ]
    },
    {
      "cell_type": "code",
      "execution_count": 5,
      "id": "a69af32f",
      "metadata": {
        "id": "a69af32f"
      },
      "outputs": [],
      "source": [
        "BATCH_SIZE = 128 # BATCH_SIZE is the number of transitions sampled from the replay buffer, chosen according to advise from slides\n",
        "GAMMA = 0.99 # GAMMA is the discount factor as mentioned in the previous section\n",
        "EPS_START = 0.9 # EPS_START is the starting value of epsilon, chosen according to advise from slides\n",
        "EPS_END = 0.1 # EPS_END is the final value of epsilon, chosen according to advise from slides\n",
        "EPS_DECAY = 100000 # EPS_DECAY controls the rate of exponential decay of epsilon, higher means a slower decay. EPS_DECAY = 100000 decays to 0.1 after 1000000 steps\n",
        "TAU = 0.0005 # TAU is the update rate of the target network... for tau = 0.0001: 0.0001 * 200 steps * 50 episodes = update frequency of 10000, as suggested in slides\n",
        "LR = 1e-4 # LR is the learning rate of the ``AdamW`` optimizer\n",
        "\n",
        "# Get number of actions from gym action space\n",
        "n_actions = env.action_space.n\n",
        "# Get the number of state observations\n",
        "state = env.reset()\n",
        "n_observations = len(state)\n",
        "#n_nodes_per_layer=80   BY DEFAULT 64\n",
        "#n_layers=4         BY DEFAULT 2\n",
        "\n",
        "policy_net = DQN(n_observations, n_actions).to(device)\n",
        "target_net = DQN(n_observations, n_actions).to(device)\n",
        "target_net.load_state_dict(policy_net.state_dict())  # initiate target net with parameters of policy net\n",
        "\n",
        "optimizer = optim.AdamW(policy_net.parameters(), lr=LR, amsgrad=True)  # optimize policy_net.parameters through backprop and later \"softly\" update target net parameters\n",
        "buffer = ReplayBuffer(10000) # recommended capacity = 10000 , if too small (<1000) it will learn too slowly\n",
        "\n",
        "\n",
        "steps_done = 0\n",
        "\n",
        "\n",
        "def select_action(state):\n",
        "    global steps_done   #global variable: any changes made to steps_done within the function select_action will affect the variable defined outside the function's scope\n",
        "    rand_num = random.random()\n",
        "    eps_threshold = EPS_END + (EPS_START - EPS_END) * \\\n",
        "        math.exp(-1. * steps_done / EPS_DECAY)\n",
        "    steps_done += 1\n",
        "    if rand_num > eps_threshold:\n",
        "        with torch.no_grad():\n",
        "            # t.max(1) finds max value along second dimension (action space)\n",
        "            # .indices returns index of max values\n",
        "            # .view() reshapes index into desired format\n",
        "            return policy_net(state).max(1).indices.view(1, 1)      # select action with maximum expected reward\n",
        "    else:\n",
        "        return torch.tensor([[env.action_space.sample()]], device=device, dtype=torch.long)\n",
        "                # choose random action sampling from environment's action space with env.action_space.sample(), then transform into pytorch tensor\n",
        "\n",
        "episode_durations = []\n",
        "\n",
        "\n",
        "def plot_durations(show_result=False):\n",
        "    plt.figure(1)\n",
        "    durations_t = torch.tensor(episode_durations, dtype=torch.float)\n",
        "    if show_result:\n",
        "        plt.title('Result')\n",
        "    else:\n",
        "        plt.clf()\n",
        "        plt.title('Training...')\n",
        "    plt.xlabel('Episode')\n",
        "    plt.ylabel('Duration')\n",
        "    plt.plot(durations_t.numpy())\n",
        "    # Take 100 episode averages and plot them too\n",
        "    if len(durations_t) >= 100:\n",
        "        means = durations_t.unfold(0, 100, 1).mean(1).view(-1) #calculates the 100-episode moving averages of the durations\n",
        "        means = torch.cat((torch.zeros(99), means))\n",
        "        plt.plot(means.numpy())\n",
        "\n",
        "    plt.pause(0.001)  # pause a bit so that plots are updated\n",
        "    if is_ipython:\n",
        "        if not show_result:\n",
        "            display.display(plt.gcf())\n",
        "            display.clear_output(wait=True)\n",
        "        else:\n",
        "            display.display(plt.gcf())"
      ]
    },
    {
      "cell_type": "code",
      "source": [
        "# check if DQN is doing what it should\n",
        "summary(policy_net, (128,2)) ### input size = (128, 2) = (batch_size, nr_observations)"
      ],
      "metadata": {
        "colab": {
          "base_uri": "https://localhost:8080/"
        },
        "id": "-6MIxqOKJLQu",
        "outputId": "3f2ff24b-e186-4b53-ab37-595005b053f6"
      },
      "id": "-6MIxqOKJLQu",
      "execution_count": 6,
      "outputs": [
        {
          "output_type": "stream",
          "name": "stdout",
          "text": [
            "----------------------------------------------------------------\n",
            "        Layer (type)               Output Shape         Param #\n",
            "================================================================\n",
            "            Linear-1              [-1, 128, 64]             192\n",
            "            Linear-2              [-1, 128, 64]           4,160\n",
            "            Linear-3               [-1, 128, 3]             195\n",
            "================================================================\n",
            "Total params: 4,547\n",
            "Trainable params: 4,547\n",
            "Non-trainable params: 0\n",
            "----------------------------------------------------------------\n",
            "Input size (MB): 0.00\n",
            "Forward/backward pass size (MB): 0.13\n",
            "Params size (MB): 0.02\n",
            "Estimated Total Size (MB): 0.15\n",
            "----------------------------------------------------------------\n"
          ]
        }
      ]
    },
    {
      "cell_type": "code",
      "execution_count": 7,
      "id": "ba2b31a1",
      "metadata": {
        "id": "ba2b31a1"
      },
      "outputs": [],
      "source": [
        "def update_model():\n",
        "    if len(buffer) < BATCH_SIZE:\n",
        "        return # returns nothing, if buffer smaller than batch size, i.e. model is not optimized!\n",
        "\n",
        "    transitions = buffer.sample(BATCH_SIZE)\n",
        "    # Transpose the batch (see https://stackoverflow.com/a/19343/3343043 for\n",
        "    # detailed explanation). This converts batch-array of Transitions\n",
        "    # to Transition of batch-arrays.\n",
        "    batch = Transition(*zip(*transitions)) # i.e. zip(*[('a', 1), ('b ', 2), ('c', 3), ('d', 4)]) = [('a', 'b', 'c', 'd'), (1, 2, 3, 4)]\n",
        "\n",
        "    # Compute a mask of non-final states and concatenate the batch elements\n",
        "    # (a final state would've been the one after which simulation ended)\n",
        "    non_final_mask = torch.tensor(tuple(map(lambda s: s is not None,\n",
        "                                          batch.next_state)), device=device, dtype=torch.bool) #checks each next_state in the minibatch (batch.next_state) and evaluates whether it is not \"None\"., if not \"none\" then episode not terminate, i.e. no final state. response = boolean (true, false)\n",
        "    non_final_next_states = torch.cat([s for s in batch.next_state\n",
        "                                                if s is not None]) #iterates through each next_state in the minibatch, and if the next_state is not \"None\" (i.e. non final), it adds it to the list comprehension\n",
        "    state_batch = torch.cat(batch.state) #concatenates the states from the minibatch (batch.state) into a single tensor (state_batch)\n",
        "    action_batch = torch.cat(batch.action)\n",
        "    reward_batch = torch.cat(batch.reward)\n",
        "\n",
        "    # Compute Q(s_t, a) - the model computes Q(s_t), then we select the\n",
        "    # columns of actions taken. These are the actions which would've been taken\n",
        "    # for each batch state according to policy_net\n",
        "    state_action_values = policy_net(state_batch).gather(1, action_batch) # Each row of the output corresponds to the Q-values for one state of the batch..gather(1, action_batch) selects elements from each row of the Q-values tensor according to the indices specified in action_batch. This operation effectively selects the Q-values for the actions that were taken in each state.\n",
        "\n",
        "    # Compute Q(s_{t+1}) for all next states.\n",
        "    # Expected values of actions for non_final_next_states are computed based\n",
        "    # on the \"older\" target_net; selecting their best reward with max(1).values\n",
        "    # This is merged based on the mask, such that we'll have either the expected\n",
        "    # state value or 0 in case the state was final.\n",
        "    next_state_values = torch.zeros(BATCH_SIZE, device=device)\n",
        "    with torch.no_grad():\n",
        "        next_state_values[non_final_mask] = target_net(non_final_next_states).max(1).values   #next_state_values[non_final_mask] selects elements from next_state_values at positions where non_final_mask is True\n",
        "        # the idea is that your policy_network learns some q values and gets updated each episode while target network only gets updated once in a while, where its parameters become closer to the policy network. Therefore the target network is slowly dragged towards the parameters of the policy network, which finally results in learning\n",
        "    # Compute the expected Q values\n",
        "    expected_state_action_values = (next_state_values * GAMMA) + reward_batch\n",
        "\n",
        "    # Compute Huber loss\n",
        "    #criterion = nn.SmoothL1Loss()\n",
        "    criterion = nn.MSELoss()  # try mse\n",
        "    loss = criterion(state_action_values, expected_state_action_values.unsqueeze(1)) # unsqueeze to add another dimension (batch dimension) to process it well with rest)\n",
        "\n",
        "    # Optimize the model\n",
        "    optimizer.zero_grad()\n",
        "    loss.backward()\n",
        "    # In-place gradient clipping\n",
        "    torch.nn.utils.clip_grad_value_(policy_net.parameters(), 100)\n",
        "    optimizer.step()\n",
        "\n",
        "    return loss.item()  # Return the loss value as a scalar"
      ]
    },
    {
      "cell_type": "code",
      "execution_count": null,
      "id": "88344c28",
      "metadata": {
        "colab": {
          "base_uri": "https://localhost:8080/",
          "height": 490
        },
        "id": "88344c28",
        "outputId": "7770f054-0c7e-49eb-9f0b-0393f9ae5f8c"
      },
      "outputs": [
        {
          "output_type": "display_data",
          "data": {
            "text/plain": [
              "<Figure size 640x480 with 1 Axes>"
            ],
            "image/png": "[encoded data removed]"
          },
          "metadata": {}
        },
        {
          "output_type": "display_data",
          "data": {
            "text/plain": [
              "<Figure size 640x480 with 0 Axes>"
            ]
          },
          "metadata": {}
        }
      ],
      "source": [
        "if torch.cuda.is_available():\n",
        "    num_episodes = 1000       #run for 1000 episodes and see if agent solves the task\n",
        "else:\n",
        "    num_episodes = 1000\n",
        "\n",
        "loss_per_episode = []\n",
        "cumulative_rewards_per_episode =  []\n",
        "nr_steps = 0\n",
        "\n",
        "for i_episode in range(num_episodes):\n",
        "    # Initialize the environment and get its state\n",
        "    state = env.reset()\n",
        "    state = torch.tensor(state, dtype=torch.float32, device=device).unsqueeze(0)\n",
        "\n",
        "    cumulative_rewards_t = 0\n",
        "    running_loss = []\n",
        "\n",
        "    for t in count():\n",
        "\n",
        "        action = select_action(state)\n",
        "        observation, reward, terminated, truncated = env.step(action.item())\n",
        "\n",
        "        #if observation[0] > - 0.6:\n",
        "        #reward = reward + observation[0] # try this asymmetric aux. reward for 3000 episodes!\n",
        "\n",
        "        cumulative_rewards_t += reward\n",
        "        reward = torch.tensor([reward], device=device)\n",
        "        done = terminated or truncated\n",
        "\n",
        "        if terminated:\n",
        "            next_state = None\n",
        "        else:\n",
        "            next_state = torch.tensor(observation, dtype=torch.float32, device=device).unsqueeze(0)\n",
        "\n",
        "        # Store the transition in memory\n",
        "        buffer.push(state, action, next_state, reward)\n",
        "\n",
        "        # Move to the next state\n",
        "        state = next_state\n",
        "\n",
        "        # Perform one step of the optimization (on the policy network)\n",
        "        #update_model()\n",
        "        loss_value = update_model()\n",
        "\n",
        "\n",
        "        #========================= Target net update =============================\n",
        "        target_net_state_dict = target_net.state_dict()\n",
        "        policy_net_state_dict = policy_net.state_dict()\n",
        "\n",
        "        # Either a) soft update or b) hard update\n",
        "\n",
        "        # a) Soft update of the target network's weights every C = 10000 steps (= 50*t, if t = 200)\n",
        "        # θ′ ← τ θ + (1 −τ )θ′\n",
        "\n",
        "        # for key in policy_net_state_dict:\n",
        "        #     target_net_state_dict[key] = policy_net_state_dict[key]*TAU + target_net_state_dict[key]*(1-TAU)\n",
        "        # target_net.load_state_dict(target_net_state_dict)\n",
        "\n",
        "        # b) Hard update of target network every 10000 steps\n",
        "        nr_steps += 1\n",
        "        if nr_steps % 10000 == 0:\n",
        "          for key in policy_net_state_dict:\n",
        "            target_net_state_dict[key] = policy_net_state_dict[key]\n",
        "          target_net.load_state_dict(target_net_state_dict)\n",
        "        #=========================================================================\n",
        "\n",
        "        if done:\n",
        "            episode_durations.append(t + 1)\n",
        "            plot_durations()\n",
        "            break\n",
        "\n",
        "        running_loss.append(loss_value)\n",
        "\n",
        "    loss_per_episode.append(np.mean(running_loss)) #creates error when running it the first time, but works when running it the second time\n",
        "    cumulative_rewards_per_episode.append(cumulative_rewards_t)\n",
        "\n",
        "\n",
        "print('Complete')\n",
        "plot_durations(show_result=True)\n",
        "plt.ioff()\n",
        "plt.show()\n",
        "\n",
        "# orange line: 100 moving average of loss"
      ]
    },
    {
      "cell_type": "code",
      "source": [
        "print(nr_steps)"
      ],
      "metadata": {
        "id": "Pmsjl5HRDFt4"
      },
      "id": "Pmsjl5HRDFt4",
      "execution_count": null,
      "outputs": []
    },
    {
      "cell_type": "code",
      "execution_count": null,
      "id": "_SLs5_8P3M7O",
      "metadata": {
        "id": "_SLs5_8P3M7O"
      },
      "outputs": [],
      "source": [
        "#DQNAgent trained for 1000 episodes and report its loss and average cumulative reward per episode.\n",
        "\n",
        "# Function to plot the loss curve\n",
        "def plot_loss_curve():\n",
        "    plt.plot(loss_per_episode)\n",
        "    plt.title('Loss Curve')\n",
        "    plt.xlabel('Training Step')\n",
        "    plt.ylabel('Loss')\n",
        "    plt.show()\n",
        "\n",
        "# Plot the loss curve\n",
        "plot_loss_curve()\n",
        "plt.show()\n",
        "\n",
        "# report loss\n",
        "print(\"final loss:\", loss_per_episode[-1])\n",
        "\n",
        "# report average cumulative reward per ep\n",
        "average_cumulative_reward_per_episode = np.mean(cumulative_rewards_per_episode)\n",
        "print('average_cumulative_reward_per_episode = ', average_cumulative_reward_per_episode)\n",
        "\n",
        "\n",
        "# IT CAN HAPPEN THAT INITIALLY LOSS CURVE GOES UP WHILE DURATIONS CURVE GOES DOWN. BECAUSE WHEN THE AGENT FINDS WAYS OF SOLVING THE TASK FASTER (DURATION GOES DOWN), THE LOSS FUNCTION IS BIG BECAUSE IT DOES NOT PREDICT THE REWARDS THAT THE AGENT IS FINDING. IN THE END LOSS SHOULD DECREASE HOWEVER"
      ]
    },
    {
      "cell_type": "code",
      "execution_count": null,
      "id": "_UlhK1LDG0Fw",
      "metadata": {
        "id": "_UlhK1LDG0Fw"
      },
      "outputs": [],
      "source": [
        "# implement auxiliary reward function that rewards higher locations (or equally maybe just heavily penalize lowest state, which then leads to the car staying away from the lowest state as long as possible by doing longer and longer oscillations)\n",
        "\n",
        "\n",
        "# run agent with aux. reward for 3000 episodes. does it solve the task? what happens for very small/large aux. rewards? optimize parameers such that you can solve in less than a thousand episodes.\n",
        "\n",
        "# plot:\n",
        "#   - episode durations (scatter plot)\n",
        "#   - cumulative reward per episode (averaging window to smoothen curve) and similar plots (c.f notes)\n",
        "#   - cumulative number of successes per episode  (cf. notes)\n",
        "#   - training loss (cf. notes)"
      ]
    },
    {
      "cell_type": "code",
      "execution_count": null,
      "id": "YzcQSojzJgmN",
      "metadata": {
        "id": "YzcQSojzJgmN"
      },
      "outputs": [],
      "source": [
        "# it would be interesting to plot maximum position per episode"
      ]
    },
    {
      "cell_type": "markdown",
      "source": [
        "###NOTES:\n",
        "\n",
        "- aux. reward does not learn for 1000 episodes -> try for 3000 episodes.\n",
        "- check whether soft or hard update works better\n",
        "- try symmetric and asymmetric aux. reward again for 3000 episodes"
      ],
      "metadata": {
        "id": "SwZ0XhPJDZ53"
      },
      "id": "SwZ0XhPJDZ53"
    },
    {
      "cell_type": "code",
      "source": [],
      "metadata": {
        "id": "4oz7jmgHDsez"
      },
      "id": "4oz7jmgHDsez",
      "execution_count": null,
      "outputs": []
    }
  ],
  "metadata": {
    "accelerator": "GPU",
    "colab": {
      "gpuType": "T4",
      "provenance": []
    },
    "kernelspec": {
      "display_name": "Python 3",
      "name": "python3"
    },
    "language_info": {
      "codemirror_mode": {
        "name": "ipython",
        "version": 3
      },
      "file_extension": ".py",
      "mimetype": "text/x-python",
      "name": "python",
      "nbconvert_exporter": "python",
      "pygments_lexer": "ipython3",
      "version": "3.10.12"
    }
  },
  "nbformat": 4,
  "nbformat_minor": 5
}